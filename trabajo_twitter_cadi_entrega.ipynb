{
 "cells": [
  {
   "cell_type": "markdown",
   "metadata": {},
   "source": [
    "# Captura y almacenamiento de la información\n",
    "Profesores: MSc Oscar Bría - Mg Javier Bazzocco\n",
    "\n",
    "\n",
    "## Introducción y objetivos\n",
    "\n",
    "Twitter es una de las mayores redes sociales en cuanto al flujo de información. Dada su gran popularidad entre personas de distintas ubicaciones geográficas, edades, aspectos sociales, etc...en esta red puede encontrarse información de las mas diversas areas (política, deportes, ciencia, chismes, etc...). Si bien un tweet puede tener un número bajo de caracteres, la información suele estar bien resumida y esto lo hace una herramienta ágil para la búsqueda inmediata de información sobre algún tema particular. Por ejemplo, basta buscar con un hashtag (#palabraclave) sobre un tema de interés para que tengamos la información mas actualizada sobre esa palabra clave. Hoy en día no solo las personas utilizan estas redes sociales para transmitir información, sino que también lo hacen las empresas, instituciones educativas y científicas, gobiernos, etc...\n",
    "\n",
    "\n",
    "\n",
    "En este contexto, el objetivo de esta notebook es presentar una forma de obtener información de dicha red social a partir de \n",
    "una palabra clave y almacenar dichos datos en una base de datos como MongoDB o un archivo CSV."
   ]
  },
  {
   "cell_type": "markdown",
   "metadata": {},
   "source": [
    "### Comenzemos...\n",
    "\n",
    "Para llevar a cabo el objetivo planteado se utilizará el lenguaje de programación Python y la librería Tweepy para interactuar con la API de Twitter. Una vez obtenidos los datos serán almacenados en MongoDB o un archivo CSV. Para interactuar con mongo mediante Python se puede utilizar pymongo. En este trabajo se utiliza MongoDB Atlas, esto es la base de datos como servicio de MongoDB (DaS) el cual permite tener una cuenta gratuita con un espacio limitado pero suficiente para este tipo de análisis. https://www.mongodb.com/cloud/atlas/signup?v=1"
   ]
  },
  {
   "cell_type": "markdown",
   "metadata": {},
   "source": [
    "El primer paso es importar las librerías de Python (para instalar por primera vez los módulos descomentar las lineas con !): "
   ]
  },
  {
   "cell_type": "code",
   "execution_count": 1,
   "metadata": {},
   "outputs": [],
   "source": [
    "# Se importan las librerías. Para instalar tweepy, pymongo o dnspython descomentar las lineas. \n",
    "import tweepy as tw # para interactuar con la API de Twitter\n",
    "#!pip install tweepy \n",
    "import pandas as pd # para manipular datos\n",
    "import csv          # archivos comma separation value\n",
    "import json         # archivos JSON\n",
    "import pprint\n",
    "#!pip install dnspython \n",
    "#!pip install pymongo     \n",
    "import numpy as np\n"
   ]
  },
  {
   "cell_type": "markdown",
   "metadata": {},
   "source": [
    "Para conectarse a Mongo se necesita cierta info que se obtiene desde la cuenta. Luego se puede entrar a la base de datos generada en el cluster de MongoDB Atlas:"
   ]
  },
  {
   "cell_type": "code",
   "execution_count": 1,
   "metadata": {},
   "outputs": [],
   "source": [
    "from pymongo import MongoClient\n",
    "client = MongoClient(\" credenciales \")\n",
    "db = client.get_database('Prueba0') # Entro en la base de datos Prueba0 que generé en mi cluster en MongoDB Atlas."
   ]
  },
  {
   "cell_type": "markdown",
   "metadata": {},
   "source": [
    "Una vista del entordo de Mongo\n",
    "\n",
    "<img src=\"fig_mongo.png\">"
   ]
  },
  {
   "cell_type": "markdown",
   "metadata": {},
   "source": [
    "Desde la notebook puede verse las colecciones ya creadas:"
   ]
  },
  {
   "cell_type": "code",
   "execution_count": 3,
   "metadata": {},
   "outputs": [
    {
     "name": "stderr",
     "output_type": "stream",
     "text": [
      "<ipython-input-3-f201acba4b4f>:1: DeprecationWarning: collection_names is deprecated. Use list_collection_names instead.\n",
      "  collects = db.collection_names(include_system_collections=False)\n"
     ]
    },
    {
     "data": {
      "text/plain": [
       "['Sismos', 'Tweets']"
      ]
     },
     "execution_count": 3,
     "metadata": {},
     "output_type": "execute_result"
    }
   ],
   "source": [
    "collects = db.collection_names(include_system_collections=False)\n",
    "collects"
   ]
  },
  {
   "cell_type": "markdown",
   "metadata": {},
   "source": [
    "Se elije en donde guardar la información"
   ]
  },
  {
   "cell_type": "code",
   "execution_count": 4,
   "metadata": {},
   "outputs": [],
   "source": [
    "collection = db['Tweets'] "
   ]
  },
  {
   "cell_type": "markdown",
   "metadata": {},
   "source": [
    "Ahora, para poder acceder a la información de Twitter hay que tener una cuenta en twitter developers (https://developer.twitter.com/en). Ahí se crea una aplicación, y luego de un par de preguntas sobre el objetivo de la App... listo! Se necesitan 4 claves de la aplicacion de twitter. Se puede copiar directamente desde la cuenta de twitter devs."
   ]
  },
  {
   "cell_type": "code",
   "execution_count": 2,
   "metadata": {},
   "outputs": [],
   "source": [
    "consumer_key= ''\n",
    "consumer_secret= ''\n",
    "access_token= ''\n",
    "access_token_secret= ''"
   ]
  },
  {
   "cell_type": "markdown",
   "metadata": {},
   "source": [
    "Luego, para crear la conexión..."
   ]
  },
  {
   "cell_type": "code",
   "execution_count": 6,
   "metadata": {},
   "outputs": [],
   "source": [
    "auth = tw.OAuthHandler(consumer_key, consumer_secret)\n",
    "auth.set_access_token(access_token, access_token_secret)\n",
    "api = tw.API(auth, wait_on_rate_limit=True)"
   ]
  },
  {
   "cell_type": "markdown",
   "metadata": {},
   "source": [
    "Una vez que está todo preparado para interactuar con Twitter se puede comenzar a trabajar en la colección de tweets. Para poder recolectar los posteos sobre un tema en particular se puede filtrar por ubicación. De esta forma es necesario contar con las coordenadas geográficas y un radio (en kilometros) de interés. Las coordenadas a continuación son para Capital Federal y alrededores. \n",
    "\n"
   ]
  },
  {
   "cell_type": "code",
   "execution_count": 7,
   "metadata": {},
   "outputs": [],
   "source": [
    "latitud = -34.6131516    \n",
    "longitud = -58.3772316\n",
    "radio = 50             # Rango de búsqueda en km en torno a la posición dada."
   ]
  },
  {
   "cell_type": "markdown",
   "metadata": {},
   "source": [
    "Una limitación que tiene esta forma de interactuar con Twitter es que se pueden obtener los tweets de los últimos 7 días. Otros parámetros que hay que seleccionar son la cantidad de tweets que se quieren capturar, la palabra clave sobre el tema que nos interese, y es posible determinar (dentro de la semana de gracia) la fecha de los tweets.\n",
    "\n",
    "En este ejemplo buscaremos tweets acerca del Bitcoin que esta semana rompió la barrera de los 40 mil $"
   ]
  },
  {
   "cell_type": "code",
   "execution_count": 8,
   "metadata": {},
   "outputs": [],
   "source": [
    "search_words = \"btc\" # se elige la palabra clave de interés\n",
    "#search_words_f = search_words + \"-filter:retweets\" # se filtran los retweets\n",
    "max_res = 10            # numero maximo de resultados que quiero ver.\n",
    "date_since = \"2021-1-2\" # la fecha (anio/mes/dia) desde...\n",
    "date_till =  \"2021-1-8\" # hasta...\n",
    "\n",
    "# Extraemos los tweets...\n",
    "tweets = tw.Cursor(api.search,\n",
    "              q=search_words,\n",
    "              lang=\"es\",\n",
    "              geocode = \"%f,%f,%dkm\" % (latitud, longitud, radio),\n",
    "              since=date_since,\n",
    "              until=date_till).items(max_res)"
   ]
  },
  {
   "cell_type": "markdown",
   "metadata": {},
   "source": [
    "Luego, se extrae el usuario, ubicación (ciudad,provincia, país) y tweet y se lo guarda en un tipo de dato llamado dataframe:"
   ]
  },
  {
   "cell_type": "code",
   "execution_count": 9,
   "metadata": {},
   "outputs": [
    {
     "data": {
      "text/html": [
       "<div>\n",
       "<style scoped>\n",
       "    .dataframe tbody tr th:only-of-type {\n",
       "        vertical-align: middle;\n",
       "    }\n",
       "\n",
       "    .dataframe tbody tr th {\n",
       "        vertical-align: top;\n",
       "    }\n",
       "\n",
       "    .dataframe thead th {\n",
       "        text-align: right;\n",
       "    }\n",
       "</style>\n",
       "<table border=\"1\" class=\"dataframe\">\n",
       "  <thead>\n",
       "    <tr style=\"text-align: right;\">\n",
       "      <th></th>\n",
       "      <th>usuario</th>\n",
       "      <th>ubicacion</th>\n",
       "      <th>Tweets</th>\n",
       "    </tr>\n",
       "  </thead>\n",
       "  <tbody>\n",
       "    <tr>\n",
       "      <th>0</th>\n",
       "      <td>Diegobarthalot1</td>\n",
       "      <td>Buenos Aires, Argentina</td>\n",
       "      <td>@arielsbdar Siempre que BTC siga subiendo o la...</td>\n",
       "    </tr>\n",
       "    <tr>\n",
       "      <th>1</th>\n",
       "      <td>ianaya89</td>\n",
       "      <td>Buenos Aires</td>\n",
       "      <td>@ddgn No esta mal usarlos para empezar, porque...</td>\n",
       "    </tr>\n",
       "    <tr>\n",
       "      <th>2</th>\n",
       "      <td>FSives</td>\n",
       "      <td>La Plata, Argentina</td>\n",
       "      <td>Como referencia, sólo el sitio freebitco tiene...</td>\n",
       "    </tr>\n",
       "    <tr>\n",
       "      <th>3</th>\n",
       "      <td>ianaya89</td>\n",
       "      <td>Buenos Aires</td>\n",
       "      <td>@ddgn Que tecnicamente no sos dueño de tus BTC...</td>\n",
       "    </tr>\n",
       "    <tr>\n",
       "      <th>4</th>\n",
       "      <td>FSives</td>\n",
       "      <td>La Plata, Argentina</td>\n",
       "      <td>Primero. ¿Son monedas? Esto es, un elemento de...</td>\n",
       "    </tr>\n",
       "    <tr>\n",
       "      <th>5</th>\n",
       "      <td>FSives</td>\n",
       "      <td>La Plata, Argentina</td>\n",
       "      <td>Criptomonedas. ¿La nueva fase del capitalismo?...</td>\n",
       "    </tr>\n",
       "    <tr>\n",
       "      <th>6</th>\n",
       "      <td>nigromantevader</td>\n",
       "      <td>Buenos aires. Argentina</td>\n",
       "      <td>@rjschlindwein El btc, puede bajar? Obvio, igu...</td>\n",
       "    </tr>\n",
       "    <tr>\n",
       "      <th>7</th>\n",
       "      <td>Mantrellbolsero</td>\n",
       "      <td>La Plata</td>\n",
       "      <td>@verajuanp Ojo q me pasó lo mismo cuando el BT...</td>\n",
       "    </tr>\n",
       "    <tr>\n",
       "      <th>8</th>\n",
       "      <td>EmilioOlveira</td>\n",
       "      <td>Buenos Aires - Argentina</td>\n",
       "      <td>$btc $eth $xrp ... otro derrape fuerte.</td>\n",
       "    </tr>\n",
       "    <tr>\n",
       "      <th>9</th>\n",
       "      <td>santihelou</td>\n",
       "      <td>Buenos Aires, Argentina</td>\n",
       "      <td>@elrama_ Un poco forzado el ejemplo de Argenti...</td>\n",
       "    </tr>\n",
       "  </tbody>\n",
       "</table>\n",
       "</div>"
      ],
      "text/plain": [
       "           usuario                 ubicacion  \\\n",
       "0  Diegobarthalot1   Buenos Aires, Argentina   \n",
       "1         ianaya89              Buenos Aires   \n",
       "2           FSives       La Plata, Argentina   \n",
       "3         ianaya89              Buenos Aires   \n",
       "4           FSives       La Plata, Argentina   \n",
       "5           FSives       La Plata, Argentina   \n",
       "6  nigromantevader   Buenos aires. Argentina   \n",
       "7  Mantrellbolsero                  La Plata   \n",
       "8    EmilioOlveira  Buenos Aires - Argentina   \n",
       "9       santihelou   Buenos Aires, Argentina   \n",
       "\n",
       "                                              Tweets  \n",
       "0  @arielsbdar Siempre que BTC siga subiendo o la...  \n",
       "1  @ddgn No esta mal usarlos para empezar, porque...  \n",
       "2  Como referencia, sólo el sitio freebitco tiene...  \n",
       "3  @ddgn Que tecnicamente no sos dueño de tus BTC...  \n",
       "4  Primero. ¿Son monedas? Esto es, un elemento de...  \n",
       "5  Criptomonedas. ¿La nueva fase del capitalismo?...  \n",
       "6  @rjschlindwein El btc, puede bajar? Obvio, igu...  \n",
       "7  @verajuanp Ojo q me pasó lo mismo cuando el BT...  \n",
       "8            $btc $eth $xrp ... otro derrape fuerte.  \n",
       "9  @elrama_ Un poco forzado el ejemplo de Argenti...  "
      ]
     },
     "execution_count": 9,
     "metadata": {},
     "output_type": "execute_result"
    }
   ],
   "source": [
    "users_locs = [[tweet1.user.screen_name, tweet1.user.location, tweet1.text] for tweet1 in tweets] \n",
    "tweet_text = pd.DataFrame(data=users_locs, \n",
    "                    columns=['usuario', 'ubicacion','Tweets']) # Se convierte la info capturada a un dataframe\n",
    "fil,col = tweet_text.shape # nos quedamos con las dimensiones del dataframe\n",
    "tweet_text"
   ]
  },
  {
   "cell_type": "markdown",
   "metadata": {},
   "source": [
    "Esta estructura permite guardar la información obtenida facilmente en archivos CSV. Para poder guardarla en Mongo hay un paso intermedio donde se lleva la información de una lista a un diccionario. Sin embargo, para poder cargarlo en Mongo es necesario \n",
    "trabajar un poco con las claves llevándolas a tipo string."
   ]
  },
  {
   "cell_type": "code",
   "execution_count": 27,
   "metadata": {},
   "outputs": [],
   "source": [
    "u = np.arange(0,fil)\n",
    "k = [] # lista donde van a estar las claves del diccionario\n",
    "\n",
    "for i in u:\n",
    "    k.append(str(u[i]))\n",
    "    \n",
    "d = dict(zip(v,users_locs)) "
   ]
  },
  {
   "cell_type": "markdown",
   "metadata": {},
   "source": [
    "Una vez que ya tenemos el diccionario con los tweets podemos guardarlos en la base de datos o en un archivo csv. Para guardar en Mongo solo hay que cambiar los valores donde dice opción."
   ]
  },
  {
   "cell_type": "code",
   "execution_count": 29,
   "metadata": {},
   "outputs": [],
   "source": [
    "opcion = 2 # dejar uno para guardar en csv o poner cualquier otro número para guardar en la BD.\n",
    "outfile = 'salida'+ search_words +'.csv'\n",
    "if op == 1:\n",
    "    tweet_text.to_csv(outfile,index=False,sep=',')\n",
    "else:\n",
    "    collection.insert_one(d)\n"
   ]
  },
  {
   "cell_type": "markdown",
   "metadata": {},
   "source": [
    "En la Figura puede verse los tweets guardados:\n",
    "\n",
    "<img src=\"fig_tweets.png\">"
   ]
  }
 ],
 "metadata": {
  "kernelspec": {
   "display_name": "Python 3",
   "language": "python",
   "name": "python3"
  },
  "language_info": {
   "codemirror_mode": {
    "name": "ipython",
    "version": 3
   },
   "file_extension": ".py",
   "mimetype": "text/x-python",
   "name": "python",
   "nbconvert_exporter": "python",
   "pygments_lexer": "ipython3",
   "version": "3.8.3"
  }
 },
 "nbformat": 4,
 "nbformat_minor": 2
}
